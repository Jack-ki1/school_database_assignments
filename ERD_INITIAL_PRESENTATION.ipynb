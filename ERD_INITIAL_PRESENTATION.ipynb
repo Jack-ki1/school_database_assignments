{
 "cells": [
  {
   "cell_type": "markdown",
   "id": "ef7931b1-ef18-4f6b-8c25-041ea3213ed7",
   "metadata": {},
   "source": [
    "<div style=\"background-color:#004d99; color:white; padding:30px; border-radius:10px; text-align:center;\">\n",
    "  <h1 style=\"margin:0; font-size:1.8em;\">DATABASE DESIGN AND DEVELOPMENT CLASS ASSIGNMENT 3</h1>\n",
    "</div>"
   ]
  },
  {
   "cell_type": "markdown",
   "id": "151d1134-bc93-464a-9cbc-2a1541e759f9",
   "metadata": {},
   "source": [
    "<div  style=\"background-color:pink; padding:20px; text-align:left; border-radius:10px;\">\n",
    "<b>Design a University Course Registration System (10 marks). Use any OOP Language of your\n",
    "choice, such as C++ or Python.</b></br>\n",
    "<p></p>Objective:</br>\n",
    "Implement an object-oriented data model to simulate a Course Registration System, where\n",
    "students can register for courses, view their enrolled courses, and update personal or course\n",
    "information.</p></br>\n",
    "Assignment Requirements:</br>\n",
    "<b><u>ENTITIES (CLASSES):</b></u></br>\n",
    "<br>1.STUDENT</br>\n",
    "    <ol>\n",
    "        <li>Attributes:roll_no, department</li>\n",
    "        <li>Methods:registerCourse(), viewCouerses(), updateProfile()</li>\n",
    "    </ol>\n",
    "<br>2.COURSE</br>\n",
    "    <ol>\n",
    "        <li>Attributes:course_code, course_name, credit_hours</li>\n",
    "        <li>Methods:display()</li>\n",
    "    </ol>\n",
    "<br>1.ENROLLMENT</br>\n",
    "    <ol>\n",
    "        <li>Attributes:roll_no, course_code</li>\n",
    "        <li>Acts as a bridge  class (like a junction table in DB)</li>\n",
    "    </ol>\n",
    "Tasks:</br>\n",
    "<b><u>1. Design the Object Model:</b></u></br>\n",
    "1. Define classes and their attributes/methods.</br>\n",
    "2. Create relationships (e.g., one student → many courses).</br>\n",
    "<b><u>2. Simulate the Database with Arrays:</b></u></br>\n",
    "1. Allow students to input 3–5 students and 3–5 courses.</br>\n",
    "2. Use arrays to store objects.</br>\n",
    "<b><u>3. Implement Operations:</b></u></br>\n",
    "1. Register a student for a course</br>\n",
    "2. Display all courses a student is enrolled in</br>\n",
    "3. Update student details (e.g., change name or department)</br>\n",
    "4. Search for students or courses by ID</br>\n",
    "</div>"
   ]
  },
  {
   "cell_type": "markdown",
   "id": "8d2aad7f-8ac2-4b55-9a95-b8ee4d1c1812",
   "metadata": {},
   "source": [
    "### 🔹 Step 0: Set Up Database Connection"
   ]
  },
  {
   "cell_type": "code",
   "execution_count": 22,
   "id": "24feff81-e6be-425b-9401-2b3b31524931",
   "metadata": {},
   "outputs": [],
   "source": [
    "import mysql.connector\n",
    "\n",
    "# Connect to the MySQL database\n",
    "db = mysql.connector.connect(\n",
    "    host='localhost',\n",
    "    user='root',\n",
    "    password='Jack@11181',\n",
    "    database=\"UniversitySystem\"\n",
    ")\n",
    "cursor = db.cursor()"
   ]
  },
  {
   "cell_type": "code",
   "execution_count": 24,
   "id": "e799b32c-7728-471e-b9aa-4ecf3bbc143d",
   "metadata": {},
   "outputs": [],
   "source": [
    "# ---------------------- STUDENT CLASS ----------------------\n",
    "class Student:\n",
    "    def __init__(self):\n",
    "        self.roll_no = input(\"Enter student roll number: \")\n",
    "        self.name = input(\"Enter student name: \")\n",
    "        self.department = input(\"Enter student department: \")\n",
    "\n",
    "    def register(self):\n",
    "        cursor.execute(\n",
    "            \"INSERT INTO Student (roll_no, name, department) VALUES (%s, %s, %s)\",\n",
    "            (self.roll_no, self.name, self.department)\n",
    "        )\n",
    "        db.commit()\n",
    "        print(\"✅ Student registered successfully!\\n\")\n",
    "\n",
    "    @staticmethod\n",
    "    def update_profile():\n",
    "        roll_no = input(\"Enter roll number of student to update: \")\n",
    "        new_name = input(\"Enter new name (or press Enter to skip): \")\n",
    "        new_department = input(\"Enter new department (or press Enter to skip): \")\n",
    "\n",
    "        if new_name:\n",
    "            cursor.execute(\"UPDATE Student SET name = %s WHERE roll_no = %s\", (new_name, roll_no))\n",
    "        if new_department:\n",
    "            cursor.execute(\"UPDATE Student SET department = %s WHERE roll_no = %s\", (new_department, roll_no))\n",
    "        \n",
    "        db.commit()\n",
    "        print(\"✅ Student profile updated.\\n\")\n",
    "\n",
    "    @staticmethod\n",
    "    def view_courses():\n",
    "        roll_no = input(\"Enter student roll number to view courses: \")\n",
    "        cursor.execute(\"\"\"\n",
    "            SELECT Course.course_code, Course.course_name \n",
    "            FROM Enrollment \n",
    "            JOIN Course ON Enrollment.course_code = Course.course_code \n",
    "            WHERE Enrollment.roll_no = %s\n",
    "        \"\"\", (roll_no,))\n",
    "        results = cursor.fetchall()\n",
    "\n",
    "        if not results:\n",
    "            print(\"❌ This student is not enrolled in any courses.\")\n",
    "        else:\n",
    "            print(\"📚 Enrolled Courses:\")\n",
    "            for code, name in results:\n",
    "                print(f\"- {code}: {name}\")\n"
   ]
  },
  {
   "cell_type": "code",
   "execution_count": 26,
   "id": "edb66769-3746-4bbd-90d1-2cd497110ed6",
   "metadata": {},
   "outputs": [],
   "source": [
    " #---------------------- COURSE CLASS ----------------------\n",
    "class Course:\n",
    "    def __init__(self):\n",
    "        self.course_code = input(\"Enter course code: \")\n",
    "        self.course_name = input(\"Enter course name: \")\n",
    "        self.credit_hours = int(input(\"Enter credit hours: \"))\n",
    "\n",
    "    def register(self):\n",
    "        cursor.execute(\n",
    "            \"INSERT INTO Course (course_code, course_name, credit_hours) VALUES (%s, %s, %s)\",\n",
    "            (self.course_code, self.course_name, self.credit_hours)\n",
    "        )\n",
    "        db.commit()\n",
    "        print(\"✅ Course added successfully!\\n\")"
   ]
  },
  {
   "cell_type": "code",
   "execution_count": 28,
   "id": "664a89e2-89c0-4a9e-b461-e8efea15d798",
   "metadata": {},
   "outputs": [],
   "source": [
    "# ---------------------- ENROLLMENT CLASS ----------------------\n",
    "class Enrollment:\n",
    "    def __init__(self):\n",
    "        self.roll_no = input(\"Enter student roll number to enroll: \")\n",
    "        self.course_code = input(\"Enter course code to register in: \")\n",
    "\n",
    "    def enroll(self):\n",
    "        # Prevent duplicate enrollment\n",
    "        cursor.execute(\"SELECT * FROM Enrollment WHERE roll_no = %s AND course_code = %s\",\n",
    "                       (self.roll_no, self.course_code))\n",
    "        if cursor.fetchone():\n",
    "            print(\"⚠️ Student already enrolled in this course.\")\n",
    "        else:\n",
    "            cursor.execute(\n",
    "                \"INSERT INTO Enrollment (roll_no, course_code) VALUES (%s, %s)\",\n",
    "                (self.roll_no, self.course_code)\n",
    "            )\n",
    "            db.commit()\n",
    "            print(\"✅ Enrollment successful!\\n\")"
   ]
  },
  {
   "cell_type": "code",
   "execution_count": 30,
   "id": "4be46215-51f2-4c5c-8eb6-01467e8ae988",
   "metadata": {},
   "outputs": [],
   "source": [
    "# ---------------------- SEARCH FUNCTIONS ----------------------\n",
    "def search_student():\n",
    "    roll_no = input(\"Enter student roll number to search: \")\n",
    "    cursor.execute(\"SELECT * FROM Student WHERE roll_no = %s\", (roll_no,))\n",
    "    student = cursor.fetchone()\n",
    "\n",
    "    if student:\n",
    "        print(f\"🔍 Found: Roll No: {student[0]}, Name: {student[1]}, Department: {student[2]}\")\n",
    "    else:\n",
    "        print(\"❌ Student not found.\")\n",
    "\n",
    "def search_course():\n",
    "    course_code = input(\"Enter course code to search: \")\n",
    "    cursor.execute(\"SELECT * FROM Course WHERE course_code = %s\", (course_code,))\n",
    "    course = cursor.fetchone()\n",
    "\n",
    "    if course:\n",
    "        print(f\"🔍 Found: Course Code: {course[0]}, Name: {course[1]}, Credit Hours: {course[2]}\")\n",
    "    else:\n",
    "        print(\"❌ Course not found.\")"
   ]
  },
  {
   "cell_type": "code",
   "execution_count": 36,
   "id": "c48d7e13-cfe9-404e-b7f0-99630f7ed589",
   "metadata": {},
   "outputs": [
    {
     "name": "stdout",
     "output_type": "stream",
     "text": [
      "\n",
      "--- 🎓 University Course Registration System ---\n",
      "1. Register a new student\n",
      "2. Add a new course\n",
      "3. Enroll a student in a course\n",
      "4. View student’s enrolled courses\n",
      "5. Update student profile\n",
      "6. Search student by roll number\n",
      "7. Search course by course code\n",
      "8. Exit\n"
     ]
    },
    {
     "name": "stdin",
     "output_type": "stream",
     "text": [
      "Choose an option (1-8):  4\n",
      "Enter student roll number to view courses:  S001\n"
     ]
    },
    {
     "name": "stdout",
     "output_type": "stream",
     "text": [
      "📚 Enrolled Courses:\n",
      "- CS101: Introduction to Programming\n",
      "- IT210: Networking Fundamentals\n",
      "\n",
      "--- 🎓 University Course Registration System ---\n",
      "1. Register a new student\n",
      "2. Add a new course\n",
      "3. Enroll a student in a course\n",
      "4. View student’s enrolled courses\n",
      "5. Update student profile\n",
      "6. Search student by roll number\n",
      "7. Search course by course code\n",
      "8. Exit\n"
     ]
    },
    {
     "name": "stdin",
     "output_type": "stream",
     "text": [
      "Choose an option (1-8):  8\n"
     ]
    },
    {
     "name": "stdout",
     "output_type": "stream",
     "text": [
      "👋 Goodbye!\n"
     ]
    }
   ],
   "source": [
    "# ---------------------- MAIN MENU ----------------------\n",
    "def main():\n",
    "    while True:\n",
    "        print(\"\\n--- 🎓 University Course Registration System ---\")\n",
    "        print(\"1. Register a new student\")\n",
    "        print(\"2. Add a new course\")\n",
    "        print(\"3. Enroll a student in a course\")\n",
    "        print(\"4. View student’s enrolled courses\")\n",
    "        print(\"5. Update student profile\")\n",
    "        print(\"6. Search student by roll number\")\n",
    "        print(\"7. Search course by course code\")\n",
    "        print(\"8. Exit\")\n",
    "\n",
    "        choice = input(\"Choose an option (1-8): \")\n",
    "\n",
    "        if choice == '1':\n",
    "            student = Student()\n",
    "            student.register()\n",
    "        elif choice == '2':\n",
    "            course = Course()\n",
    "            course.register()\n",
    "        elif choice == '3':\n",
    "            enrollment = Enrollment()\n",
    "            enrollment.enroll()\n",
    "        elif choice == '4':\n",
    "            Student.view_courses()\n",
    "        elif choice == '5':\n",
    "            Student.update_profile()\n",
    "        elif choice == '6':\n",
    "            search_student()\n",
    "        elif choice == '7':\n",
    "            search_course()\n",
    "        elif choice == '8':\n",
    "            print(\"👋 Goodbye!\")\n",
    "            break\n",
    "        else:\n",
    "            print(\"❌ Invalid choice. Please try again.\")\n",
    "\n",
    "# Run the program\n",
    "main()\n",
    "\n",
    "# Close connection after exiting\n",
    "cursor.close()\n",
    "db.close()"
   ]
  },
  {
   "cell_type": "code",
   "execution_count": null,
   "id": "1c606073-e715-4ea4-bf95-96f7206ab6d0",
   "metadata": {},
   "outputs": [],
   "source": []
  }
 ],
 "metadata": {
  "kernelspec": {
   "display_name": "Python 3.12",
   "language": "python",
   "name": "python3.12"
  },
  "language_info": {
   "codemirror_mode": {
    "name": "ipython",
    "version": 3
   },
   "file_extension": ".py",
   "mimetype": "text/x-python",
   "name": "python",
   "nbconvert_exporter": "python",
   "pygments_lexer": "ipython3",
   "version": "3.12.3"
  }
 },
 "nbformat": 4,
 "nbformat_minor": 5
}
